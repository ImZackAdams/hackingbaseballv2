{
 "cells": [
  {
   "cell_type": "code",
   "execution_count": 1,
   "id": "174f643f-7ac7-40f0-a698-1a45c3b2398e",
   "metadata": {},
   "source": [
    "from sqlalchemy import create_engine\n",
    "import pandas as pd\n",
    "from sklearn.model_selection import train_test_split\n",
    "from sklearn.ensemble import RandomForestClassifier\n",
    "from sklearn.metrics import accuracy_score\n",
    "from sklearn.preprocessing import LabelEncoder"
   ],
   "outputs": []
  },
  {
   "cell_type": "code",
   "execution_count": 2,
   "id": "a0969c50-9a46-43e9-aa75-4d0e3e2f6e9f",
   "metadata": {},
   "source": [
    "# Set display options to show more rows and columns\n",
    "pd.set_option('display.max_rows', 100)\n",
    "pd.set_option('display.max_columns', 50)"
   ],
   "outputs": []
  },
  {
   "cell_type": "code",
   "execution_count": 3,
   "id": "209fc13d-89cf-479e-a005-4db3c217f24d",
   "metadata": {},
   "source": [
    "# Assuming the data is stored in a SQLite database (adjust if different)\n",
    "engine = create_engine('sqlite:///baseball_data.db')\n",
    "# df = pd.read_sql(\"SELECT * FROM statcast_data\", engine)  # Replace your_table_name with the actual table name\n"
   ],
   "outputs": []
  },
  {
   "cell_type": "code",
   "execution_count": 4,
   "id": "89259ffb-a008-4be8-b128-02b18367c6c4",
   "metadata": {},
   "source": [
    "query = \"SELECT * FROM statcast_data LIMIT 500000\"\n",
    "df = pd.read_sql(query, engine)\n"
   ],
   "outputs": []
  },
  {
   "cell_type": "code",
   "execution_count": null,
   "id": "b02449cb-09ac-4f26-ae0b-a18bcb0ab7ad",
   "metadata": {},
   "source": [],
   "outputs": []
  },
  {
   "cell_type": "code",
   "execution_count": 5,
   "id": "9b91f4d1-ab7a-4cd5-ade0-3463922b0966",
   "metadata": {},
   "source": [
    "# Flag strikeouts\n",
    "df['is_strikeout'] = (df['events'] == 'strikeout').astype(int)\n",
    "\n",
    "# Assuming this is placed after the existing flags for hits and walks\n"
   ],
   "outputs": []
  },
  {
   "cell_type": "code",
   "execution_count": 6,
   "id": "bc718042-5d04-471d-9fe6-53b4eaa3c4e6",
   "metadata": {},
   "source": [
    "# Create binary flags for hits and walks\n",
    "df['is_hit'] = df['events'].isin(['single', 'double', 'triple', 'home_run']).astype(int)\n",
    "df['is_walk'] = (df['events'] == 'walk').astype(int)\n"
   ],
   "outputs": []
  },
  {
   "cell_type": "code",
   "execution_count": 7,
   "id": "2abd0203-edc7-4b07-8fb0-e204dfcbc459",
   "metadata": {},
   "source": [
    "# Aggregate data for pitcher-batter matchups\n",
    "matchup_stats = df.groupby(['pitcher', 'batter']).agg({\n",
    "    'is_hit': 'sum',\n",
    "    'is_walk': 'sum',\n",
    "    'is_strikeout': 'sum',  # Include strikeouts in the aggregation\n",
    "    'game_pk': 'count'  # Assuming each row is an at-bat; adjust if necessary\n",
    "}).reset_index()\n",
    "\n",
    "matchup_stats.rename(columns={'game_pk': 'at_bats'}, inplace=True)\n",
    "matchup_stats['batting_average'] = matchup_stats['is_hit'] / matchup_stats['at_bats']\n",
    "matchup_stats['on_base_percentage'] = (matchup_stats['is_hit'] + matchup_stats['is_walk']) / matchup_stats['at_bats']\n",
    "# Calculate Strikeout Rate\n",
    "matchup_stats['strikeout_rate'] = matchup_stats['is_strikeout'] / matchup_stats['at_bats']"
   ],
   "outputs": []
  },
  {
   "cell_type": "code",
   "execution_count": 8,
   "id": "bb3af602-6cfa-43d5-8483-4ed17be59bc3",
   "metadata": {},
   "source": [
    "print(matchup_stats)"
   ],
   "outputs": []
  },
  {
   "cell_type": "code",
   "execution_count": null,
   "id": "9e9ec690-f286-4f8b-b88f-a0e289c6a963",
   "metadata": {},
   "source": [],
   "outputs": []
  },
  {
   "cell_type": "code",
   "execution_count": 9,
   "id": "aaee6448-3b6d-4f27-869f-0b2bc3037284",
   "metadata": {},
   "source": [
    "df['winning_team'] = df['post_home_score'] > df['post_away_score']  # Simplification for demonstration\n",
    "df = df.merge(matchup_stats, on=['pitcher', 'batter'], how='left')\n",
    "\n",
    "# Encode winning_team as binary target variable\n",
    "label_encoder = LabelEncoder()\n",
    "df['winning_team_encoded'] = label_encoder.fit_transform(df['winning_team'])"
   ],
   "outputs": []
  },
  {
   "cell_type": "code",
   "execution_count": 10,
   "id": "35433695-cb1a-4e94-94c5-061a846f3bca",
   "metadata": {},
   "source": [
    "X = df[['batting_average', 'on_base_percentage', 'strikeout_rate']].fillna(0) \n",
    "\n",
    "y = df['winning_team_encoded']\n",
    "\n",
    "X_train, X_test, y_train, y_test = train_test_split(X, y, test_size=0.2, random_state=42)\n",
    "\n",
    "model = RandomForestClassifier(random_state=42)\n",
    "model.fit(X_train, y_train)\n"
   ],
   "outputs": []
  },
  {
   "cell_type": "code",
   "execution_count": 11,
   "id": "fdf8dc34-1557-443c-afab-5d55f740a993",
   "metadata": {},
   "source": [
    "y_pred = model.predict(X_test)\n",
    "print(\"Model Accuracy:\", accuracy_score(y_test, y_pred))\n"
   ],
   "outputs": []
  },
  {
   "cell_type": "code",
   "execution_count": null,
   "id": "af7c3878-7ce5-48ea-8f71-7f031e330e91",
   "metadata": {},
   "source": [],
   "outputs": []
  },
  {
   "cell_type": "code",
   "execution_count": null,
   "id": "6ea07644-03dc-4ac1-8890-099e7835cb93",
   "metadata": {},
   "source": [],
   "outputs": []
  },
  {
   "cell_type": "code",
   "execution_count": null,
   "id": "3014a116-f8f6-4874-b30f-7e29784f9434",
   "metadata": {},
   "source": [],
   "outputs": []
  },
  {
   "cell_type": "code",
   "execution_count": null,
   "id": "e653cbe0-4890-464a-bb1d-d46b3c5398a7",
   "metadata": {},
   "source": [],
   "outputs": []
  },
  {
   "cell_type": "code",
   "execution_count": null,
   "id": "3d10d9e8-f295-4bfc-bfc1-fc33701b16c6",
   "metadata": {},
   "source": [],
   "outputs": []
  },
  {
   "cell_type": "code",
   "execution_count": 12,
   "id": "6e05f4ff-ecf8-4782-b90a-db9ae76f0633",
   "metadata": {},
   "source": [
    "df['is_home'] = (df['home_team'] == 'YourTeamName').astype(int)  # Replace 'YourTeamName' with the actual team name or logic to handle all teams\n"
   ],
   "outputs": []
  },
  {
   "cell_type": "code",
   "execution_count": 13,
   "id": "0bb1285c-d9fc-4a10-862a-20036ec931b7",
   "metadata": {},
   "source": [
    "X = df[['batting_average', 'on_base_percentage', 'is_home']].fillna(0)"
   ],
   "outputs": []
  },
  {
   "cell_type": "code",
   "execution_count": 14,
   "id": "6faed4e2-3a39-46f3-a1cb-865e85cae353",
   "metadata": {},
   "source": [
    "# SMOTE\n",
    "\n",
    "from imblearn.over_sampling import SMOTE\n",
    "\n",
    "from sklearn.model_selection import train_test_split\n",
    "from imblearn.over_sampling import SMOTE\n",
    "from sklearn.ensemble import RandomForestClassifier\n",
    "from sklearn.metrics import classification_report\n",
    "\n",
    "# Assuming 'X' and 'y' are your features and target variable\n",
    "X_train, X_test, y_train, y_test = train_test_split(X, y, test_size=0.2, random_state=42)\n",
    "\n",
    "# Apply SMOTE\n",
    "smote = SMOTE(random_state=42)\n",
    "X_train_smote, y_train_smote = smote.fit_resample(X_train, y_train)\n",
    "\n",
    "# Now, use X_train_smote and y_train_smote for training your model\n",
    "model = RandomForestClassifier(random_state=42)\n",
    "model.fit(X_train_smote, y_train_smote)\n",
    "\n",
    "# Predict and evaluate the model\n",
    "y_pred = model.predict(X_test)\n",
    "print(classification_report(y_test, y_pred))"
   ],
   "outputs": []
  },
  {
   "cell_type": "code",
   "execution_count": null,
   "id": "14ae7b2e-84a5-4ef1-a128-58eaa7c6a853",
   "metadata": {},
   "source": [],
   "outputs": []
  },
  {
   "cell_type": "code",
   "execution_count": null,
   "id": "9d32bca9-eaeb-428b-985b-8382eb0c73c5",
   "metadata": {},
   "source": [
    "\n"
   ],
   "outputs": []
  },
  {
   "cell_type": "code",
   "execution_count": null,
   "id": "2a817a7e-8567-48da-80fa-377a0e0a5688",
   "metadata": {},
   "source": [],
   "outputs": []
  },
  {
   "cell_type": "code",
   "execution_count": null,
   "id": "6f353814-5e3b-4a8e-bae6-1df5b9e08b03",
   "metadata": {},
   "source": [],
   "outputs": []
  },
  {
   "cell_type": "code",
   "execution_count": 15,
   "id": "58956ce7-d83c-4aea-a351-02e053a1bb29",
   "metadata": {},
   "source": [
    "# %%time\n",
    "\n",
    "# from sklearn.model_selection import GridSearchCV\n",
    "\n",
    "# #  hyperparameter grid tuning\n",
    "# param_grid = {\n",
    "#     'n_estimators': [100, 200, 300],\n",
    "#     'max_depth': [None, 10, 20, 30],\n",
    "#     'min_samples_split': [2, 5, 10]\n",
    "# }\n",
    "\n",
    "# grid_search = GridSearchCV(estimator=model, param_grid=param_grid, cv=3, n_jobs=-1, verbose=2)\n",
    "# grid_search.fit(X_train, y_train)\n",
    "\n",
    "# # Use the best estimator\n",
    "# best_model = grid_search.best_estimator_\n",
    "# y_pred_best = best_model.predict(X_test)\n",
    "# print(\"Improved Model Accuracy:\", accuracy_score(y_test, y_pred_best))"
   ],
   "outputs": []
  },
  {
   "cell_type": "code",
   "execution_count": 16,
   "id": "2c80ca82-cc12-494b-bea8-38367f935fac",
   "metadata": {},
   "source": [
    "from sklearn.metrics import classification_report, roc_auc_score\n",
    "\n",
    "print(classification_report(y_test, y_pred))\n",
    "print(\"ROC-AUC Score:\", roc_auc_score(y_test, y_pred))"
   ],
   "outputs": []
  },
  {
   "cell_type": "code",
   "execution_count": 17,
   "id": "4eb17cdb-c26f-439b-9fb3-52ca4c187eb3",
   "metadata": {},
   "source": [
    "import xgboost as xgb\n",
    "\n",
    "# Initialize the XGBoost classifier\n",
    "xgb_clf = xgb.XGBClassifier(use_label_encoder=False, eval_metric='mlogloss')\n",
    "\n",
    "# Train the model\n",
    "xgb_clf.fit(X_train, y_train)\n",
    "\n",
    "# Make predictions\n",
    "y_pred = xgb_clf.predict(X_test)\n",
    "\n",
    "# Optionally, predict probabilities for ROC AUC score, etc.\n",
    "y_pred_proba = xgb_clf.predict_proba(X_test)[:,1]\n"
   ],
   "outputs": []
  },
  {
   "cell_type": "code",
   "execution_count": 18,
   "id": "d4814585-c07f-4eea-84b2-3dd0ee7283a9",
   "metadata": {},
   "source": [
    "from sklearn.metrics import accuracy_score, classification_report, roc_auc_score\n",
    "\n",
    "# Accuracy\n",
    "print(\"Accuracy:\", accuracy_score(y_test, y_pred))\n",
    "\n",
    "# Classification report\n",
    "print(classification_report(y_test, y_pred))\n",
    "\n",
    "# ROC AUC Score\n",
    "print(\"ROC AUC Score:\", roc_auc_score(y_test, y_pred_proba))\n"
   ],
   "outputs": []
  },
  {
   "cell_type": "code",
   "execution_count": 19,
   "id": "58b3d741-d00f-43d4-b9b3-ac421c1e7cd1",
   "metadata": {},
   "source": [
    "from imblearn.over_sampling import SMOTE\n",
    "from xgboost import XGBClassifier\n",
    "\n",
    "# Assuming X_train, y_train are already defined and split from your dataset\n",
    "\n",
    "smote = SMOTE(random_state=42)\n",
    "X_train_smote, y_train_smote = smote.fit_resample(X_train, y_train)\n",
    "\n"
   ],
   "outputs": []
  },
  {
   "cell_type": "code",
   "execution_count": 20,
   "id": "dfa57098-0afd-4063-baaa-f65951ba0e2e",
   "metadata": {},
   "source": [
    "xgb_clf = XGBClassifier(use_label_encoder=False, eval_metric='logloss')\n",
    "xgb_clf.fit(X_train_smote, y_train_smote)\n"
   ],
   "outputs": []
  },
  {
   "cell_type": "code",
   "execution_count": 21,
   "id": "3e0f4f60-cb59-4471-acd4-9d447a7128d0",
   "metadata": {},
   "source": [
    "# Making predictions\n",
    "y_pred = xgb_clf.predict(X_test)\n",
    "# For ROC AUC Score calculation\n",
    "y_pred_proba = xgb_clf.predict_proba(X_test)[:, 1]\n"
   ],
   "outputs": []
  },
  {
   "cell_type": "code",
   "execution_count": 49,
   "id": "f33dd826-92b0-4b05-a3bb-80789bb60509",
   "metadata": {},
   "source": [
    "from sklearn.metrics import accuracy_score, classification_report, roc_auc_score, confusion_matrix\n",
    "import seaborn as sns\n",
    "import matplotlib.pyplot as plt\n",
    "import numpy as np\n",
    "\n",
    "# Accuracy\n",
    "print(\"Accuracy:\", accuracy_score(y_test, y_pred))\n",
    "\n",
    "# Classification Report\n",
    "print(classification_report(y_test, y_pred))\n",
    "\n",
    "# ROC AUC Score\n",
    "print(\"ROC AUC Score:\", roc_auc_score(y_test, y_pred_proba))\n",
    "\n",
    "# Confusion Matrix\n",
    "cm = confusion_matrix(y_test, y_pred)\n",
    "sns.heatmap(cm, annot=True, fmt='d')\n",
    "plt.xlabel('Predicted')\n",
    "plt.ylabel('True')\n",
    "plt.show()\n"
   ],
   "outputs": []
  },
  {
   "cell_type": "code",
   "execution_count": 50,
   "id": "8afadcbc-7ae7-4293-b1e1-9ab6a6a60dfb",
   "metadata": {},
   "source": [
    "param_grid = {\n",
    "    'n_estimators': np.arange(50, 400, 50),\n",
    "    'max_depth': [3, 4, 5, 6, 7, 8],\n",
    "    'learning_rate': [0.01, 0.05, 0.1, 0.2],\n",
    "    'colsample_bytree': [0.3, 0.7, 1.0],\n",
    "    'subsample': [0.6, 0.8, 1.0]\n",
    "}\n"
   ],
   "outputs": []
  },
  {
   "cell_type": "code",
   "execution_count": 52,
   "id": "6cb385d3-7b5c-4b90-a19d-b07b99e58500",
   "metadata": {},
   "source": [
    "from sklearn.model_selection import RandomizedSearchCV\n",
    "\n",
    "xgb_clf = XGBClassifier(use_label_encoder=False, eval_metric='logloss')\n",
    "\n",
    "random_search = RandomizedSearchCV(xgb_clf, param_distributions=param_grid, n_iter=100, scoring='roc_auc', n_jobs=-1, cv=5, random_state=42)\n"
   ],
   "outputs": []
  },
  {
   "cell_type": "code",
   "execution_count": 53,
   "id": "457aff8a-a974-438e-808b-fca0fcecc3cc",
   "metadata": {},
   "source": [
    "random_search.fit(X_train, y_train)\n"
   ],
   "outputs": []
  },
  {
   "cell_type": "code",
   "execution_count": 54,
   "id": "194901a8-5404-4b00-8adb-5461144be34a",
   "metadata": {},
   "source": [
    "print(\"Best Parameters:\", random_search.best_params_)\n",
    "print(\"Best Score:\", random_search.best_score_)\n",
    "\n",
    "# Best model\n",
    "best_clf = random_search.best_estimator_\n"
   ],
   "outputs": []
  },
  {
   "cell_type": "code",
   "execution_count": 55,
   "id": "dd96043e-5c28-4186-84ca-68e0ac5b13c5",
   "metadata": {},
   "source": [
    "y_pred = best_clf.predict(X_test)\n",
    "# Evaluate predictions\n"
   ],
   "outputs": []
  },
  {
   "cell_type": "code",
   "execution_count": 56,
   "id": "c7218082-19fc-47d5-8760-78f7eebee9e3",
   "metadata": {
    "scrolled": true
   },
   "source": [
    "\n",
    "# Accuracy\n",
    "print(\"Accuracy:\", accuracy_score(y_test, y_pred))\n",
    "\n",
    "# Classification Report\n",
    "print(classification_report(y_test, y_pred))\n",
    "\n",
    "# ROC AUC Score\n",
    "print(\"ROC AUC Score:\", roc_auc_score(y_test, y_pred_proba))\n",
    "\n",
    "# Confusion Matrix\n",
    "cm = confusion_matrix(y_test, y_pred)\n",
    "sns.heatmap(cm, annot=True, fmt='d')\n",
    "plt.xlabel('Predicted')\n",
    "plt.ylabel('True')\n",
    "plt.show()"
   ],
   "outputs": []
  },
  {
   "cell_type": "code",
   "execution_count": null,
   "id": "d98c6587-3f04-4509-ad46-1d0e3094ceb7",
   "metadata": {},
   "source": [],
   "outputs": []
  },
  {
   "cell_type": "code",
   "execution_count": 58,
   "id": "5f464329-7b56-41bc-9e43-9b66f2c3ff0c",
   "metadata": {},
   "source": [
    "param_grid = {\n",
    "    'xgb__n_estimators': np.arange(50, 400, 50),\n",
    "    'xgb__max_depth': [3, 4, 5, 6, 7, 8],\n",
    "    'xgb__learning_rate': [0.01, 0.05, 0.1, 0.2],\n",
    "    'xgb__colsample_bytree': [0.3, 0.7, 1.0],\n",
    "    'xgb__subsample': [0.6, 0.8, 1.0]\n",
    "}\n"
   ],
   "outputs": []
  },
  {
   "cell_type": "code",
   "execution_count": null,
   "id": "f2bb3d15-3ffc-4881-8bdd-521f9518e652",
   "metadata": {},
   "source": [],
   "outputs": []
  },
  {
   "cell_type": "code",
   "execution_count": 60,
   "id": "b9e2b49c-1f24-415e-9ebe-9bf9b407be32",
   "metadata": {},
   "source": [
    "from imblearn.pipeline import Pipeline as IMBPipeline\n",
    "from imblearn.over_sampling import SMOTE\n",
    "\n",
    "# Define your pipeline\n",
    "pipeline = IMBPipeline([\n",
    "    ('smote', SMOTE(random_state=42)),\n",
    "    ('xgb', XGBClassifier(use_label_encoder=False, eval_metric='logloss'))\n",
    "])\n",
    "\n",
    "# Now use the adjusted `param_grid` in `RandomizedSearchCV`\n",
    "random_search = RandomizedSearchCV(\n",
    "    estimator=pipeline,\n",
    "    param_distributions=param_grid,\n",
    "    n_iter=100,\n",
    "    scoring='roc_auc',\n",
    "    n_jobs=-1,\n",
    "    cv=5,\n",
    "    random_state=42\n",
    ")\n",
    "\n",
    "random_search.fit(X_train, y_train)\n"
   ],
   "outputs": []
  },
  {
   "cell_type": "code",
   "execution_count": null,
   "id": "54ca1272-f1e1-4c8a-82da-dddd82f0654c",
   "metadata": {},
   "source": [],
   "outputs": []
  },
  {
   "cell_type": "code",
   "execution_count": 61,
   "id": "bfab3d5c-1146-416e-8faa-3ddcc00a2fa9",
   "metadata": {},
   "source": [
    "# Using the best estimator from the randomized search\n",
    "best_estimator = random_search.best_estimator_\n",
    "\n",
    "# Making predictions on the test set\n",
    "y_pred = best_estimator.predict(X_test)\n",
    "\n",
    "# For ROC AUC score\n",
    "y_pred_proba = best_estimator.predict_proba(X_test)[:, 1]\n"
   ],
   "outputs": []
  },
  {
   "cell_type": "code",
   "execution_count": 62,
   "id": "14390cec-6798-4dd0-b8e7-d7151ff83762",
   "metadata": {},
   "source": [
    "accuracy = accuracy_score(y_test, y_pred)\n",
    "print(f\"Accuracy: {accuracy}\")\n"
   ],
   "outputs": []
  },
  {
   "cell_type": "code",
   "execution_count": 63,
   "id": "aeee671a-9cf9-4b13-88fe-422269daf62c",
   "metadata": {},
   "source": [
    "report = classification_report(y_test, y_pred)\n",
    "print(report)\n"
   ],
   "outputs": []
  },
  {
   "cell_type": "code",
   "execution_count": 64,
   "id": "5e073b72-b07e-4fc4-946f-3bbf6ff5a481",
   "metadata": {
    "scrolled": true
   },
   "source": [
    "roc_auc = roc_auc_score(y_test, y_pred_proba)\n",
    "print(f\"ROC AUC Score: {roc_auc}\")\n"
   ],
   "outputs": []
  },
  {
   "cell_type": "code",
   "execution_count": 65,
   "id": "10edcc97-2bbf-45b1-9e45-2d451f8914af",
   "metadata": {},
   "source": [
    "from sklearn.metrics import roc_curve\n",
    "\n",
    "fpr, tpr, _ = roc_curve(y_test, y_pred_proba)\n",
    "plt.plot(fpr, tpr, label=f'ROC curve (area = {roc_auc:.2f})')\n",
    "plt.plot([0, 1], [0, 1], 'k--')  # Dashed diagonal\n",
    "plt.xlabel('False Positive Rate')\n",
    "plt.ylabel('True Positive Rate')\n",
    "plt.title('ROC Curve')\n",
    "plt.legend(loc='best')\n",
    "plt.show()\n"
   ],
   "outputs": []
  },
  {
   "cell_type": "code",
   "execution_count": null,
   "id": "5a964bd2-7e10-49fa-84d6-caf0c96e0b6d",
   "metadata": {},
   "source": [],
   "outputs": []
  },
  {
   "cell_type": "code",
   "execution_count": null,
   "id": "c73ef5fc-b543-4856-97d5-a05b947ed58c",
   "metadata": {},
   "source": [],
   "outputs": []
  },
  {
   "cell_type": "code",
   "execution_count": null,
   "id": "4d99b453-7972-41cc-a910-89381cff0b89",
   "metadata": {},
   "source": [],
   "outputs": []
  },
  {
   "cell_type": "code",
   "execution_count": 23,
   "id": "0e9220b0-7809-45ed-ad78-c69186e20b77",
   "metadata": {},
   "source": [
    "# TODO CLEANUP BELOW"
   ],
   "outputs": []
  },
  {
   "cell_type": "code",
   "execution_count": 24,
   "id": "acf5bcc3-3bca-4249-a839-e3c80474e6c3",
   "metadata": {},
   "source": [
    "# df_sorted = df.sort_values(by=['game_date', 'game_pk', 'at_bat_number', 'pitch_number'])\n",
    "\n",
    "\n",
    "# # find last play\n",
    "# last_play_per_game = df_sorted.drop_duplicates(subset=['game_pk'], keep='last').copy()\n",
    "\n",
    "# # Now apply changes to 'last_play_per_game', which is a copy to avoid SettingWithCopyWarning\n",
    "# last_play_per_game['winning_team'] = last_play_per_game.apply(lambda row: row['home_team'] if row['post_home_score'] > row['post_away_score'] else row['away_team'], axis=1)\n",
    "# last_play_per_game['losing_team'] = last_play_per_game.apply(lambda row: row['away_team'] if row['post_home_score'] > row['post_away_score'] else row['home_team'], axis=1)\n",
    "\n",
    "# # Selecting the required columns along with game_date\n",
    "# winners_losers = last_play_per_game[['game_pk', 'game_date', 'winning_team', 'losing_team', 'post_home_score', 'post_away_score', 'home_team', 'away_team']]\n",
    "\n",
    "# # Reset the index of the DataFrame and drop the old index\n",
    "# winners_losers_reset_index = winners_losers.reset_index(drop=True)\n"
   ],
   "outputs": []
  },
  {
   "cell_type": "code",
   "execution_count": 25,
   "id": "573ee187-41f9-4e66-b72a-60d5feb59419",
   "metadata": {},
   "source": [
    "# print(winners_losers_reset_index)"
   ],
   "outputs": []
  },
  {
   "cell_type": "code",
   "execution_count": 26,
   "id": "31a7c4fb-27f0-4aea-b5cd-a64de19b6548",
   "metadata": {},
   "source": [
    "# hit_types = ['single', 'double', 'triple', 'home_run']\n",
    "# at_bat_events = hit_types + ['field_out', 'strikeout', 'fielders_choice', 'grounded_into_double_play', 'force_out']\n",
    "# df['is_hit'] = df['events'].isin(hit_types)\n",
    "# df['is_at_bat'] = df['events'].isin(at_bat_events)\n",
    "# df['is_strikeout'] = df['events'] == 'strikeout'\n",
    "# df['is_walk'] = df['events'] == 'walk'"
   ],
   "outputs": []
  },
  {
   "cell_type": "code",
   "execution_count": 27,
   "id": "d0905952-7332-437a-8bef-34cf0ea5bb0a",
   "metadata": {},
   "source": [
    "# stats = df.groupby([\"game_pk\", 'pitcher', 'batter']).agg({\n",
    "#     'is_at_bat': 'sum',\n",
    "#     'is_hit': 'sum',\n",
    "#     'is_strikeout': 'sum',\n",
    "#     'is_walk': 'sum',\n",
    "# }).rename(columns={'is_at_bat': 'at_bats', 'is_hit': 'total_hits', 'is_strikeout': 'strikeouts', 'is_walk': 'walks'})\n"
   ],
   "outputs": []
  },
  {
   "cell_type": "code",
   "execution_count": 28,
   "id": "4c62fbda-6f51-4281-a36a-68ef2d632cf0",
   "metadata": {},
   "source": [
    "# stats['batting_average'] = stats['total_hits'] / stats['at_bats']\n",
    "# stats['on_base_percentage'] = (stats['total_hits'] + stats['walks']) / (stats['at_bats'] + stats['walks'])\n"
   ],
   "outputs": []
  },
  {
   "cell_type": "code",
   "execution_count": 29,
   "id": "ad0935cc-793d-44ab-bc2a-2c0080472bdf",
   "metadata": {},
   "source": [
    "# stats.reset_index(inplace=True)"
   ],
   "outputs": []
  },
  {
   "cell_type": "code",
   "execution_count": 30,
   "id": "ace5fdfc-3c0f-49b6-975b-260b33028793",
   "metadata": {},
   "source": [
    "# print(stats)"
   ],
   "outputs": []
  },
  {
   "cell_type": "code",
   "execution_count": 31,
   "id": "d3b3a64c-b6bf-463e-9772-b176ea6aa517",
   "metadata": {},
   "source": [
    "# data = pd.merge(stats, winners_losers_reset_index, on='game_pk')"
   ],
   "outputs": []
  },
  {
   "cell_type": "code",
   "execution_count": 32,
   "id": "c3be0b1f-520d-46c1-b659-e629bffd189f",
   "metadata": {},
   "source": [
    "# print(data)"
   ],
   "outputs": []
  },
  {
   "cell_type": "code",
   "execution_count": 33,
   "id": "c4265bc0-dd07-4a75-ab1e-8e8a8e9c71ee",
   "metadata": {},
   "source": [
    "# label_encoder = LabelEncoder()\n",
    "# data['winning_team_encoded'] = label_encoder.fit_transform(data['winning_team'])"
   ],
   "outputs": []
  },
  {
   "cell_type": "code",
   "execution_count": 34,
   "id": "29bad5ba-1941-489d-a054-8d714b4a587c",
   "metadata": {},
   "source": [
    "# Drop the columns not needed for training\n",
    "# X = data.drop(['game_pk', 'game_date', 'winning_team', 'losing_team', 'post_home_score', 'post_away_score', \n",
    "#                'home_team', 'away_team', 'winning_team_encoded'], axis=1)\n",
    "# y = data['home_team']\n"
   ],
   "outputs": []
  },
  {
   "cell_type": "code",
   "execution_count": 35,
   "id": "3996a00d-43a2-471a-bb68-f2daeb03b9bf",
   "metadata": {},
   "source": [
    "# Split the data into training and test sets\n",
    "# X_train, X_test, y_train, y_test = train_test_split(X, y, test_size=0.2, random_state=42)\n"
   ],
   "outputs": []
  },
  {
   "cell_type": "code",
   "execution_count": 36,
   "id": "a22630f7-c38c-4b33-b1d2-9174fd593440",
   "metadata": {},
   "source": [
    "# Initialize the RandomForestClassifier\n",
    "# model = RandomForestClassifier(random_state=42)\n"
   ],
   "outputs": []
  },
  {
   "cell_type": "code",
   "execution_count": 37,
   "id": "ee371381-0498-4212-a5fb-0409438c16c4",
   "metadata": {},
   "source": [
    "# Train the model\n",
    "# model.fit(X_train, y_train)\n"
   ],
   "outputs": []
  },
  {
   "cell_type": "code",
   "execution_count": 38,
   "id": "d82cbbb9-1115-4caf-81a4-88252040bdbd",
   "metadata": {},
   "source": [
    "# Predict on the test set\n",
    "# y_pred = model.predict(X_test)\n"
   ],
   "outputs": []
  },
  {
   "cell_type": "code",
   "execution_count": 39,
   "id": "3a26640e-420c-47a6-8d33-7286e457f8f0",
   "metadata": {},
   "source": [
    "# accuracy = accuracy_score(y_test, y_pred)\n",
    "# print(f'Model accuracy: {accuracy}')\n"
   ],
   "outputs": []
  },
  {
   "cell_type": "code",
   "execution_count": null,
   "id": "6a72f5e5-b944-4897-9e5d-6d7fa6591af5",
   "metadata": {},
   "source": [],
   "outputs": []
  },
  {
   "cell_type": "code",
   "execution_count": null,
   "id": "ea78f9d8-c5f7-43df-a0a5-da91c6ed445d",
   "metadata": {},
   "source": [],
   "outputs": []
  },
  {
   "cell_type": "code",
   "execution_count": null,
   "id": "84dc04cc-cd44-44d5-ad2c-7c4697591134",
   "metadata": {},
   "source": [],
   "outputs": []
  },
  {
   "cell_type": "code",
   "execution_count": null,
   "id": "33c011bc-fca1-4859-9465-efac7e258bee",
   "metadata": {},
   "source": [],
   "outputs": []
  },
  {
   "cell_type": "code",
   "execution_count": null,
   "id": "b014acf2-dc00-40fa-82d9-58fb9a3aaaa2",
   "metadata": {},
   "source": [],
   "outputs": []
  },
  {
   "cell_type": "code",
   "execution_count": null,
   "id": "8b2be066-c642-4a95-af53-13abe681bbcc",
   "metadata": {},
   "source": [],
   "outputs": []
  },
  {
   "cell_type": "code",
   "execution_count": null,
   "id": "f328998b-4a2d-4818-aebb-dd9cca3274e3",
   "metadata": {},
   "source": [],
   "outputs": []
  },
  {
   "cell_type": "code",
   "execution_count": null,
   "id": "199d76f9-4b86-4cd0-bab5-7684efad366d",
   "metadata": {},
   "source": [],
   "outputs": []
  },
  {
   "cell_type": "code",
   "execution_count": null,
   "id": "6163a157-9278-4d8c-8d1f-fae43e695ba8",
   "metadata": {},
   "source": [],
   "outputs": []
  },
  {
   "cell_type": "code",
   "execution_count": null,
   "id": "07a4e1c1-cb45-4420-ab24-0a2a39900390",
   "metadata": {},
   "source": [],
   "outputs": []
  },
  {
   "cell_type": "code",
   "execution_count": null,
   "id": "12d8076e-8722-4e63-9a94-8e5d1f77a4d4",
   "metadata": {},
   "source": [],
   "outputs": []
  },
  {
   "cell_type": "code",
   "execution_count": null,
   "id": "bb70d03b-0046-4474-819e-0324b763ff43",
   "metadata": {},
   "source": [],
   "outputs": []
  },
  {
   "cell_type": "code",
   "execution_count": null,
   "id": "aeb57d57-5175-4e3a-97b4-56dcdbf765d1",
   "metadata": {},
   "source": [],
   "outputs": []
  },
  {
   "cell_type": "code",
   "execution_count": null,
   "id": "c67bb95e-ab04-4843-8af9-ee63c0753375",
   "metadata": {},
   "source": [],
   "outputs": []
  },
  {
   "cell_type": "code",
   "execution_count": null,
   "id": "00225b9d-c803-4646-a2dc-4aad61f3a2e1",
   "metadata": {},
   "source": [],
   "outputs": []
  },
  {
   "cell_type": "code",
   "execution_count": null,
   "id": "86581a96-3487-4940-9abf-c21b07a7119b",
   "metadata": {},
   "source": [],
   "outputs": []
  },
  {
   "cell_type": "code",
   "execution_count": null,
   "id": "c94a10e2-cdf1-49c2-b00b-fb569409310f",
   "metadata": {},
   "source": [],
   "outputs": []
  },
  {
   "cell_type": "code",
   "execution_count": null,
   "id": "7fcbe633-1caa-4517-bab3-3ec3993e5ecf",
   "metadata": {},
   "source": [],
   "outputs": []
  },
  {
   "cell_type": "code",
   "execution_count": null,
   "id": "a7a9d329-f22c-4f4e-9c31-9a5cd31219b3",
   "metadata": {},
   "source": [],
   "outputs": []
  },
  {
   "cell_type": "code",
   "execution_count": null,
   "id": "23300b2c-516b-4d8e-8ca8-56e094a77218",
   "metadata": {},
   "source": [],
   "outputs": []
  },
  {
   "cell_type": "code",
   "execution_count": 40,
   "id": "279c761a-1718-41cf-b762-e4fc8d948163",
   "metadata": {},
   "source": [
    "# CODE SHELVED BELOW"
   ],
   "outputs": []
  },
  {
   "cell_type": "code",
   "execution_count": 41,
   "id": "1876e0cc-c934-4f21-8c88-74c4138acc43",
   "metadata": {},
   "source": [
    "# hit_types = ['single', 'double', 'triple', 'home_run']\n",
    "# at_bat_events = hit_types + ['field_out', 'strikeout', 'fielders_choice', 'grounded_into_double_play', 'force_out', 'strikeout']\n",
    "# walk_events = ['walk']"
   ],
   "outputs": []
  },
  {
   "cell_type": "code",
   "execution_count": 42,
   "id": "f135b7fa-fa79-45c0-bdc7-0f514fa6863a",
   "metadata": {},
   "source": [
    "# # Create a new column in the DataFrame to flag hits and at_bats\n",
    "# df['is_hit'] = df['events'].isin(hit_types)\n",
    "# df['is_at_bat'] = df['events'].isin(at_bat_events)\n",
    "# df['is_strikeout'] = df['events'] == 'strikeout'\n",
    "# df['is_walk'] = df['events'] == 'walk'\n"
   ],
   "outputs": []
  },
  {
   "cell_type": "code",
   "execution_count": 43,
   "id": "00b292f7-7f9e-44eb-887d-d0bddd5525be",
   "metadata": {},
   "source": [
    "# # Group by pitcher and batter pairs\n",
    "# stats = df.groupby(['pitcher', 'batter']).agg({\n",
    "#     'is_at_bat': 'sum',         # Total number of at-bats\n",
    "#     'is_hit': 'sum',            # Total number of hits\n",
    "#     'is_strikeout': 'sum',      # Total number of strikeouts\n",
    "#     'is_walk': 'sum',           # Total number of walks\n",
    "# }).rename(columns={'is_at_bat': 'at_bats', 'is_hit': 'total_hits', 'is_strikeout': 'strikeouts', 'is_walk': 'walks'})"
   ],
   "outputs": []
  },
  {
   "cell_type": "code",
   "execution_count": 44,
   "id": "11039b93-b6f2-4e96-a7a9-62c6a2384bf3",
   "metadata": {},
   "source": [
    "# # Calculate batting average (AVG) and on-base percentage (OBP)\n",
    "# stats['batting_average'] = stats['total_hits'] / stats['at_bats']\n",
    "# stats['on_base_percentage'] = (stats['total_hits'] + stats['walks']) / (stats['at_bats'] + stats['walks'])"
   ],
   "outputs": []
  },
  {
   "cell_type": "code",
   "execution_count": 45,
   "id": "c17bea8f-7b09-4fd6-b004-78af6629acda",
   "metadata": {},
   "source": [
    "# # Reset index to make 'pitcher' and 'batter' columns again if necessary\n",
    "# stats.reset_index(inplace=True)"
   ],
   "outputs": []
  },
  {
   "cell_type": "code",
   "execution_count": 46,
   "id": "5fa5b757-ceb2-40bc-aec0-2d57466f5e34",
   "metadata": {},
   "source": [
    "# # Display the statistics DataFrame\n",
    "# print(stats)"
   ],
   "outputs": []
  },
  {
   "cell_type": "code",
   "execution_count": 47,
   "id": "8246e013-3414-4ba2-a07e-2d7ea20d5642",
   "metadata": {},
   "source": [
    "# print(winners_losers_reset_index)"
   ],
   "outputs": []
  },
  {
   "cell_type": "code",
   "execution_count": null,
   "id": "190ee05e-7fb3-43ce-b84b-2e5de402fbe4",
   "metadata": {},
   "source": [],
   "outputs": []
  },
  {
   "cell_type": "code",
   "execution_count": null,
   "id": "cda5e2f7-8fb6-42a7-a442-36fdb0ffdbbd",
   "metadata": {},
   "source": [],
   "outputs": []
  },
  {
   "cell_type": "code",
   "execution_count": null,
   "id": "8f529773-6349-469f-a3b5-6f6d10fbc7ad",
   "metadata": {},
   "source": [],
   "outputs": []
  },
  {
   "cell_type": "code",
   "execution_count": null,
   "id": "6e25be67-7bd5-4492-abdc-22fe7afae77a",
   "metadata": {},
   "source": [],
   "outputs": []
  },
  {
   "cell_type": "code",
   "execution_count": null,
   "id": "3caf8e41-af70-424b-97f7-4160ee8476e7",
   "metadata": {},
   "source": [],
   "outputs": []
  },
  {
   "cell_type": "code",
   "execution_count": null,
   "id": "dfd94fc9-bc05-47e0-b6b6-ccda25528006",
   "metadata": {},
   "source": [],
   "outputs": []
  },
  {
   "cell_type": "code",
   "execution_count": null,
   "id": "915b7134-57e2-4e17-82c3-8320ee9d60c9",
   "metadata": {},
   "source": [],
   "outputs": []
  },
  {
   "cell_type": "code",
   "execution_count": null,
   "id": "49ff6c04-5dc1-4069-80fb-3ceccd087f4e",
   "metadata": {},
   "source": [],
   "outputs": []
  },
  {
   "cell_type": "code",
   "execution_count": null,
   "id": "65c01cbc-8f28-4958-b28b-ee01aecc54f3",
   "metadata": {},
   "source": [],
   "outputs": []
  },
  {
   "cell_type": "code",
   "execution_count": null,
   "id": "5f392e34-7c9c-47e6-b717-0caa3f276756",
   "metadata": {},
   "source": [],
   "outputs": []
  },
  {
   "cell_type": "code",
   "execution_count": null,
   "id": "ec2e47cd-6671-41b9-976d-de3ad1569927",
   "metadata": {},
   "source": [],
   "outputs": []
  },
  {
   "cell_type": "code",
   "execution_count": null,
   "id": "5b7483c5-18a1-4eb5-8d1d-a74e7320da62",
   "metadata": {},
   "source": [],
   "outputs": []
  },
  {
   "cell_type": "code",
   "execution_count": null,
   "id": "da0740f4-dcfc-42bc-b628-b6d79333d042",
   "metadata": {},
   "source": [],
   "outputs": []
  },
  {
   "cell_type": "code",
   "execution_count": null,
   "id": "6cf595e2-239d-4578-b8bd-424c616f5db9",
   "metadata": {},
   "source": [],
   "outputs": []
  },
  {
   "cell_type": "code",
   "execution_count": null,
   "id": "b3c3b3be-3409-4fd7-9db8-1c562ae3da80",
   "metadata": {},
   "source": [],
   "outputs": []
  },
  {
   "cell_type": "code",
   "execution_count": null,
   "id": "3ac89316-929e-4c30-b311-ab8cd6b3b72e",
   "metadata": {},
   "source": [],
   "outputs": []
  },
  {
   "cell_type": "code",
   "execution_count": null,
   "id": "30c71c46-87c2-42b2-bd9a-350d59571ae2",
   "metadata": {},
   "source": [],
   "outputs": []
  },
  {
   "cell_type": "code",
   "execution_count": null,
   "id": "38c524e4-88e2-4e1e-8ddb-9881de45cf7c",
   "metadata": {},
   "source": [],
   "outputs": []
  },
  {
   "cell_type": "code",
   "execution_count": null,
   "id": "19e6eb86-56c9-441c-b120-603148f74973",
   "metadata": {},
   "source": [],
   "outputs": []
  },
  {
   "cell_type": "code",
   "execution_count": null,
   "id": "a25ed6ba-ae50-4ef4-bcc4-503e573da115",
   "metadata": {},
   "source": [],
   "outputs": []
  },
  {
   "cell_type": "code",
   "execution_count": null,
   "id": "9e22865f-52ca-4a1d-8bd6-4af62efe7c48",
   "metadata": {},
   "source": [],
   "outputs": []
  },
  {
   "cell_type": "code",
   "execution_count": null,
   "id": "4d47c4b7-21d6-455b-ae74-71fbe614ff54",
   "metadata": {},
   "source": [],
   "outputs": []
  },
  {
   "cell_type": "code",
   "execution_count": null,
   "id": "005423bb-8975-4f5b-a64d-2a167c890bd5",
   "metadata": {},
   "source": [],
   "outputs": []
  },
  {
   "cell_type": "code",
   "execution_count": null,
   "id": "815fade7-c2c0-4b0f-ad45-194cc791b2b9",
   "metadata": {},
   "source": [],
   "outputs": []
  },
  {
   "cell_type": "code",
   "execution_count": null,
   "id": "a7054b42-6d2f-45cc-8abd-31b7f8457be4",
   "metadata": {},
   "source": [],
   "outputs": []
  },
  {
   "cell_type": "code",
   "execution_count": null,
   "id": "252958fb-df49-49e1-9ad4-045beca1fbed",
   "metadata": {},
   "source": [],
   "outputs": []
  },
  {
   "cell_type": "code",
   "execution_count": null,
   "id": "75a9d6bf-8a26-48cc-826b-7cda52944bb1",
   "metadata": {},
   "source": [],
   "outputs": []
  },
  {
   "cell_type": "code",
   "execution_count": null,
   "id": "633e4a50-219b-48fe-aef6-cdeea977e04c",
   "metadata": {},
   "source": [],
   "outputs": []
  },
  {
   "cell_type": "code",
   "execution_count": null,
   "id": "7f86ccae-84a1-4527-89d6-59d9b0a55a1b",
   "metadata": {},
   "source": [],
   "outputs": []
  },
  {
   "cell_type": "code",
   "execution_count": null,
   "id": "6680743b-f272-4940-a91e-1aa1115d6a9e",
   "metadata": {},
   "source": [],
   "outputs": []
  },
  {
   "cell_type": "code",
   "execution_count": null,
   "id": "61e9d7c1-b787-4bc9-a818-dec36c439919",
   "metadata": {},
   "source": [],
   "outputs": []
  },
  {
   "cell_type": "code",
   "execution_count": null,
   "id": "86ee6d53-edea-45d7-9297-339874ace973",
   "metadata": {},
   "source": [],
   "outputs": []
  },
  {
   "cell_type": "code",
   "execution_count": null,
   "id": "df77cfba-1d52-40c6-bdbb-15c8b5b85f90",
   "metadata": {},
   "source": [],
   "outputs": []
  },
  {
   "cell_type": "code",
   "execution_count": null,
   "id": "9964e489-bfd1-44f2-967a-5c9b803e8f38",
   "metadata": {},
   "source": [],
   "outputs": []
  },
  {
   "cell_type": "code",
   "execution_count": null,
   "id": "0b3a0115-eb21-42a7-ad87-44f40f273ccb",
   "metadata": {},
   "source": [],
   "outputs": []
  },
  {
   "cell_type": "code",
   "execution_count": null,
   "id": "cc09df8a-3c05-4a29-a26c-68137cf405bf",
   "metadata": {},
   "source": [],
   "outputs": []
  }
 ],
 "metadata": {
  "kernelspec": {
   "display_name": "Baseball Predictor",
   "language": "python",
   "name": "baseball-predictor"
  },
  "language_info": {
   "codemirror_mode": {
    "name": "ipython",
    "version": 3
   },
   "file_extension": ".py",
   "mimetype": "text/x-python",
   "name": "python",
   "nbconvert_exporter": "python",
   "pygments_lexer": "ipython3",
   "version": "3.12.2"
  }
 },
 "nbformat": 4,
 "nbformat_minor": 5
}
